{
 "cells": [
  {
   "cell_type": "code",
   "execution_count": null,
   "id": "a27df724",
   "metadata": {},
   "outputs": [],
   "source": [
    "\n"
   ]
  },
  {
   "cell_type": "raw",
   "id": "d5d01471",
   "metadata": {},
   "source": []
  },
  {
   "cell_type": "code",
   "execution_count": 14,
   "id": "4f50ebb5",
   "metadata": {},
   "outputs": [
    {
     "name": "stdout",
     "output_type": "stream",
     "text": [
      "        Rank                                              Name Platform  \\\n",
      "0          1                                        Wii Sports      Wii   \n",
      "1          2                                 Super Mario Bros.      NES   \n",
      "2          3                                    Mario Kart Wii      Wii   \n",
      "3          4                                 Wii Sports Resort      Wii   \n",
      "4          5                          Pokemon Red/Pokemon Blue       GB   \n",
      "...      ...                                               ...      ...   \n",
      "16593  16596                Woody Woodpecker in Crazy Castle 5      GBA   \n",
      "16594  16597                     Men in Black II: Alien Escape       GC   \n",
      "16595  16598  SCORE International Baja 1000: The Official Game      PS2   \n",
      "16596  16599                                        Know How 2       DS   \n",
      "16597  16600                                  Spirits & Spells      GBA   \n",
      "\n",
      "         Year         Genre   Publisher  NA_Sales  EU_Sales  JP_Sales  \\\n",
      "0      2006.0        Sports    Nintendo     41.49     29.02      3.77   \n",
      "1      1985.0      Platform    Nintendo     29.08      3.58      6.81   \n",
      "2      2008.0        Racing    Nintendo     15.85     12.88      3.79   \n",
      "3      2009.0        Sports    Nintendo     15.75     11.01      3.28   \n",
      "4      1996.0  Role-Playing    Nintendo     11.27      8.89     10.22   \n",
      "...       ...           ...         ...       ...       ...       ...   \n",
      "16593  2002.0      Platform       Kemco      0.01      0.00      0.00   \n",
      "16594  2003.0       Shooter  Infogrames      0.01      0.00      0.00   \n",
      "16595  2008.0        Racing  Activision      0.00      0.00      0.00   \n",
      "16596  2010.0        Puzzle    7G//AMES      0.00      0.01      0.00   \n",
      "16597  2003.0      Platform     Wanadoo      0.01      0.00      0.00   \n",
      "\n",
      "       Other_Sales  Global_Sales  \n",
      "0             8.46         82.74  \n",
      "1             0.77         40.24  \n",
      "2             3.31         35.82  \n",
      "3             2.96         33.00  \n",
      "4             1.00         31.37  \n",
      "...            ...           ...  \n",
      "16593         0.00          0.01  \n",
      "16594         0.00          0.01  \n",
      "16595         0.00          0.01  \n",
      "16596         0.00          0.01  \n",
      "16597         0.00          0.01  \n",
      "\n",
      "[16598 rows x 11 columns]\n"
     ]
    }
   ],
   "source": [
    "import pandas as pd\n",
    "\n",
    "vg = pd.read_csv(r\"C:\\Python\\datasets\\vgsales.csv\")\n",
    "\n",
    "\n",
    "print(vg)"
   ]
  },
  {
   "cell_type": "code",
   "execution_count": null,
   "id": "c85319ed",
   "metadata": {},
   "outputs": [],
   "source": []
  }
 ],
 "metadata": {
  "kernelspec": {
   "display_name": "Python 3 (ipykernel)",
   "language": "python",
   "name": "python3"
  },
  "language_info": {
   "codemirror_mode": {
    "name": "ipython",
    "version": 3
   },
   "file_extension": ".py",
   "mimetype": "text/x-python",
   "name": "python",
   "nbconvert_exporter": "python",
   "pygments_lexer": "ipython3",
   "version": "3.11.0"
  }
 },
 "nbformat": 4,
 "nbformat_minor": 5
}
